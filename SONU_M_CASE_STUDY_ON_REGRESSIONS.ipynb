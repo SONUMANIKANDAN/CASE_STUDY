{
 "cells": [
  {
   "cell_type": "markdown",
   "id": "3d3359db",
   "metadata": {},
   "source": [
    "# Case Study on Regression"
   ]
  },
  {
   "cell_type": "markdown",
   "id": "22b65a36",
   "metadata": {},
   "source": [
    "## Importing the important libraries "
   ]
  },
  {
   "cell_type": "code",
   "execution_count": 1,
   "id": "cf5e1f53",
   "metadata": {},
   "outputs": [],
   "source": [
    "import pandas as pd\n",
    "import numpy as np \n",
    "import matplotlib.pyplot as plt\n",
    "import seaborn as sns"
   ]
  },
  {
   "cell_type": "markdown",
   "id": "9e0139d5",
   "metadata": {},
   "source": [
    "## Loading the data set"
   ]
  },
  {
   "cell_type": "code",
   "execution_count": 2,
   "id": "6144c753",
   "metadata": {},
   "outputs": [],
   "source": [
    "data=pd.read_csv('car_age_price.csv')"
   ]
  },
  {
   "cell_type": "markdown",
   "id": "a6ba780e",
   "metadata": {},
   "source": [
    "## Checking the basis details of data set"
   ]
  },
  {
   "cell_type": "code",
   "execution_count": 3,
   "id": "cd686bda",
   "metadata": {},
   "outputs": [
    {
     "data": {
      "text/html": [
       "<div>\n",
       "<style scoped>\n",
       "    .dataframe tbody tr th:only-of-type {\n",
       "        vertical-align: middle;\n",
       "    }\n",
       "\n",
       "    .dataframe tbody tr th {\n",
       "        vertical-align: top;\n",
       "    }\n",
       "\n",
       "    .dataframe thead th {\n",
       "        text-align: right;\n",
       "    }\n",
       "</style>\n",
       "<table border=\"1\" class=\"dataframe\">\n",
       "  <thead>\n",
       "    <tr style=\"text-align: right;\">\n",
       "      <th></th>\n",
       "      <th>Year</th>\n",
       "      <th>Price</th>\n",
       "    </tr>\n",
       "  </thead>\n",
       "  <tbody>\n",
       "    <tr>\n",
       "      <th>0</th>\n",
       "      <td>2018</td>\n",
       "      <td>465000</td>\n",
       "    </tr>\n",
       "    <tr>\n",
       "      <th>1</th>\n",
       "      <td>2019</td>\n",
       "      <td>755000</td>\n",
       "    </tr>\n",
       "    <tr>\n",
       "      <th>2</th>\n",
       "      <td>2019</td>\n",
       "      <td>700000</td>\n",
       "    </tr>\n",
       "    <tr>\n",
       "      <th>3</th>\n",
       "      <td>2018</td>\n",
       "      <td>465000</td>\n",
       "    </tr>\n",
       "    <tr>\n",
       "      <th>4</th>\n",
       "      <td>2018</td>\n",
       "      <td>465000</td>\n",
       "    </tr>\n",
       "  </tbody>\n",
       "</table>\n",
       "</div>"
      ],
      "text/plain": [
       "   Year   Price\n",
       "0  2018  465000\n",
       "1  2019  755000\n",
       "2  2019  700000\n",
       "3  2018  465000\n",
       "4  2018  465000"
      ]
     },
     "execution_count": 3,
     "metadata": {},
     "output_type": "execute_result"
    }
   ],
   "source": [
    "data.head()"
   ]
  },
  {
   "cell_type": "code",
   "execution_count": 4,
   "id": "02495556",
   "metadata": {},
   "outputs": [
    {
     "name": "stdout",
     "output_type": "stream",
     "text": [
      "<class 'pandas.core.frame.DataFrame'>\n",
      "RangeIndex: 112 entries, 0 to 111\n",
      "Data columns (total 2 columns):\n",
      " #   Column  Non-Null Count  Dtype\n",
      "---  ------  --------------  -----\n",
      " 0   Year    112 non-null    int64\n",
      " 1   Price   112 non-null    int64\n",
      "dtypes: int64(2)\n",
      "memory usage: 1.9 KB\n"
     ]
    }
   ],
   "source": [
    "data.info()"
   ]
  },
  {
   "cell_type": "code",
   "execution_count": 5,
   "id": "c87977fc",
   "metadata": {},
   "outputs": [
    {
     "data": {
      "text/plain": [
       "8"
      ]
     },
     "execution_count": 5,
     "metadata": {},
     "output_type": "execute_result"
    }
   ],
   "source": [
    "data['Year'].nunique()\n"
   ]
  },
  {
   "cell_type": "code",
   "execution_count": 6,
   "id": "21a0e8a3",
   "metadata": {},
   "outputs": [
    {
     "data": {
      "text/html": [
       "<div>\n",
       "<style scoped>\n",
       "    .dataframe tbody tr th:only-of-type {\n",
       "        vertical-align: middle;\n",
       "    }\n",
       "\n",
       "    .dataframe tbody tr th {\n",
       "        vertical-align: top;\n",
       "    }\n",
       "\n",
       "    .dataframe thead th {\n",
       "        text-align: right;\n",
       "    }\n",
       "</style>\n",
       "<table border=\"1\" class=\"dataframe\">\n",
       "  <thead>\n",
       "    <tr style=\"text-align: right;\">\n",
       "      <th></th>\n",
       "      <th>Year</th>\n",
       "      <th>Price</th>\n",
       "    </tr>\n",
       "  </thead>\n",
       "  <tbody>\n",
       "    <tr>\n",
       "      <th>count</th>\n",
       "      <td>112.000000</td>\n",
       "      <td>112.000000</td>\n",
       "    </tr>\n",
       "    <tr>\n",
       "      <th>mean</th>\n",
       "      <td>2016.669643</td>\n",
       "      <td>483866.044643</td>\n",
       "    </tr>\n",
       "    <tr>\n",
       "      <th>std</th>\n",
       "      <td>1.629616</td>\n",
       "      <td>91217.450533</td>\n",
       "    </tr>\n",
       "    <tr>\n",
       "      <th>min</th>\n",
       "      <td>2013.000000</td>\n",
       "      <td>300000.000000</td>\n",
       "    </tr>\n",
       "    <tr>\n",
       "      <th>25%</th>\n",
       "      <td>2015.000000</td>\n",
       "      <td>423750.000000</td>\n",
       "    </tr>\n",
       "    <tr>\n",
       "      <th>50%</th>\n",
       "      <td>2017.000000</td>\n",
       "      <td>500000.000000</td>\n",
       "    </tr>\n",
       "    <tr>\n",
       "      <th>75%</th>\n",
       "      <td>2017.000000</td>\n",
       "      <td>550000.000000</td>\n",
       "    </tr>\n",
       "    <tr>\n",
       "      <th>max</th>\n",
       "      <td>2020.000000</td>\n",
       "      <td>755000.000000</td>\n",
       "    </tr>\n",
       "  </tbody>\n",
       "</table>\n",
       "</div>"
      ],
      "text/plain": [
       "              Year          Price\n",
       "count   112.000000     112.000000\n",
       "mean   2016.669643  483866.044643\n",
       "std       1.629616   91217.450533\n",
       "min    2013.000000  300000.000000\n",
       "25%    2015.000000  423750.000000\n",
       "50%    2017.000000  500000.000000\n",
       "75%    2017.000000  550000.000000\n",
       "max    2020.000000  755000.000000"
      ]
     },
     "execution_count": 6,
     "metadata": {},
     "output_type": "execute_result"
    }
   ],
   "source": [
    "data.describe()"
   ]
  },
  {
   "cell_type": "code",
   "execution_count": 7,
   "id": "5b2f9b32",
   "metadata": {},
   "outputs": [
    {
     "data": {
      "text/plain": [
       "(112, 2)"
      ]
     },
     "execution_count": 7,
     "metadata": {},
     "output_type": "execute_result"
    }
   ],
   "source": [
    "data.shape"
   ]
  },
  {
   "cell_type": "markdown",
   "id": "ae60bcb5",
   "metadata": {},
   "source": [
    "## Scatter plot of year vs price to find the year wise distribution"
   ]
  },
  {
   "cell_type": "code",
   "execution_count": 8,
   "id": "b8e26cbe",
   "metadata": {},
   "outputs": [
    {
     "data": {
      "image/png": "[encoded data removed]",
      "text/plain": [
       "<Figure size 432x288 with 1 Axes>"
      ]
     },
     "metadata": {
      "needs_background": "light"
     },
     "output_type": "display_data"
    }
   ],
   "source": [
    "data.plot.scatter(x='Year',y='Price')\n",
    "plt.show()"
   ]
  },
  {
   "cell_type": "markdown",
   "id": "cfa66996",
   "metadata": {},
   "source": [
    "## Checking the null values in data set"
   ]
  },
  {
   "cell_type": "code",
   "execution_count": 9,
   "id": "572cc79f",
   "metadata": {},
   "outputs": [
    {
     "data": {
      "text/plain": [
       "Year     0\n",
       "Price    0\n",
       "dtype: int64"
      ]
     },
     "execution_count": 9,
     "metadata": {},
     "output_type": "execute_result"
    }
   ],
   "source": [
    "data.isnull().sum()"
   ]
  },
  {
   "cell_type": "markdown",
   "id": "36b90606",
   "metadata": {},
   "source": [
    "## There are no null values in the dataset"
   ]
  },
  {
   "cell_type": "markdown",
   "id": "fd55e3d2",
   "metadata": {},
   "source": [
    "## Checking fot ouliers in the price column"
   ]
  },
  {
   "cell_type": "code",
   "execution_count": 10,
   "id": "2e868fba",
   "metadata": {},
   "outputs": [
    {
     "data": {
      "image/png": "[encoded data removed]",
      "text/plain": [
       "<Figure size 432x288 with 1 Axes>"
      ]
     },
     "metadata": {
      "needs_background": "light"
     },
     "output_type": "display_data"
    }
   ],
   "source": [
    "plt.boxplot(data['Price'])\n",
    "plt.title('Price of second-hand Hyundai grand i10 car')\n",
    "plt.show()"
   ]
  },
  {
   "cell_type": "markdown",
   "id": "464c7caa",
   "metadata": {},
   "source": [
    "### There is only one outlier as visible from boxplot"
   ]
  },
  {
   "cell_type": "markdown",
   "id": "0bdcac48",
   "metadata": {},
   "source": [
    "## Finding the outlier using IQR method"
   ]
  },
  {
   "cell_type": "code",
   "execution_count": 11,
   "id": "bd844a6c",
   "metadata": {},
   "outputs": [
    {
     "name": "stdout",
     "output_type": "stream",
     "text": [
      "422500.0 500000.0 550000.0\n"
     ]
    }
   ],
   "source": [
    "Q1=np.percentile(data['Price'],25,interpolation='midpoint')\n",
    "Q2=np.percentile(data['Price'],50,interpolation='midpoint')\n",
    "Q3=np.percentile(data['Price'],75,interpolation='midpoint')\n",
    "print(Q1,Q2,Q3)"
   ]
  },
  {
   "cell_type": "code",
   "execution_count": 12,
   "id": "c9594199",
   "metadata": {},
   "outputs": [
    {
     "data": {
      "text/plain": [
       "500000.0"
      ]
     },
     "execution_count": 12,
     "metadata": {},
     "output_type": "execute_result"
    }
   ],
   "source": [
    "data['Price'].median()"
   ]
  },
  {
   "cell_type": "code",
   "execution_count": 13,
   "id": "c79eb191",
   "metadata": {},
   "outputs": [
    {
     "data": {
      "text/plain": [
       "127500.0"
      ]
     },
     "execution_count": 13,
     "metadata": {},
     "output_type": "execute_result"
    }
   ],
   "source": [
    "iqr=Q3-Q1\n",
    "iqr"
   ]
  },
  {
   "cell_type": "code",
   "execution_count": 14,
   "id": "9a0fd7ef",
   "metadata": {},
   "outputs": [
    {
     "name": "stdout",
     "output_type": "stream",
     "text": [
      "231250.0 741250.0\n"
     ]
    }
   ],
   "source": [
    "low_limit=Q1-1.5*iqr\n",
    "up_limit=Q3+1.5*iqr\n",
    "print(low_limit,up_limit)"
   ]
  },
  {
   "cell_type": "code",
   "execution_count": 15,
   "id": "8a3f0b66",
   "metadata": {},
   "outputs": [
    {
     "data": {
      "text/plain": [
       "[755000]"
      ]
     },
     "execution_count": 15,
     "metadata": {},
     "output_type": "execute_result"
    }
   ],
   "source": [
    "outliers1=[]\n",
    "for i in data['Price']:\n",
    "    if(i>up_limit) or (i<low_limit):\n",
    "        outliers1.append(i)\n",
    "outliers1"
   ]
  },
  {
   "cell_type": "code",
   "execution_count": 16,
   "id": "1ef58c08",
   "metadata": {},
   "outputs": [
    {
     "data": {
      "text/plain": [
       "Int64Index([1], dtype='int64')"
      ]
     },
     "execution_count": 16,
     "metadata": {},
     "output_type": "execute_result"
    }
   ],
   "source": [
    "ind2=data['Price']>up_limit\n",
    "data.loc[ind2].index"
   ]
  },
  {
   "cell_type": "markdown",
   "id": "84f190ab",
   "metadata": {},
   "source": [
    "## There is only one outlier avaialble in the price column. The price is taken as target column. So the outlier cannot be dropped"
   ]
  },
  {
   "cell_type": "markdown",
   "id": "563637e6",
   "metadata": {},
   "source": [
    "## Checking for correlation in the data"
   ]
  },
  {
   "cell_type": "code",
   "execution_count": 17,
   "id": "99b907af",
   "metadata": {},
   "outputs": [],
   "source": [
    "corrmatrix=data.corr()"
   ]
  },
  {
   "cell_type": "markdown",
   "id": "e2d81dbe",
   "metadata": {},
   "source": [
    "## Plotting the heat map"
   ]
  },
  {
   "cell_type": "code",
   "execution_count": 18,
   "id": "24843278",
   "metadata": {},
   "outputs": [
    {
     "data": {
      "image/png": "[encoded data removed]",
      "text/plain": [
       "<Figure size 576x288 with 2 Axes>"
      ]
     },
     "metadata": {
      "needs_background": "light"
     },
     "output_type": "display_data"
    }
   ],
   "source": [
    "plt.subplots(figsize=(8,4))\n",
    "sns.heatmap(corrmatrix,vmin=-0.2, vmax= 1.2,annot=True,cmap='Greens')\n",
    "plt.show()"
   ]
  },
  {
   "cell_type": "markdown",
   "id": "b0488fb1",
   "metadata": {},
   "source": [
    "## Splitting the data into feature and target columns"
   ]
  },
  {
   "cell_type": "code",
   "execution_count": 19,
   "id": "6d1ca3df",
   "metadata": {},
   "outputs": [],
   "source": [
    "#Feature Data set\n",
    "x=data['Year']\n",
    "\n",
    "#Target column\n",
    "y=data['Price']"
   ]
  },
  {
   "cell_type": "code",
   "execution_count": 20,
   "id": "f40eeed6",
   "metadata": {},
   "outputs": [
    {
     "data": {
      "text/plain": [
       "0      2018\n",
       "1      2019\n",
       "2      2019\n",
       "3      2018\n",
       "4      2018\n",
       "       ... \n",
       "107    2016\n",
       "108    2014\n",
       "109    2015\n",
       "110    2016\n",
       "111    2015\n",
       "Name: Year, Length: 112, dtype: int64"
      ]
     },
     "execution_count": 20,
     "metadata": {},
     "output_type": "execute_result"
    }
   ],
   "source": [
    "x"
   ]
  },
  {
   "cell_type": "code",
   "execution_count": 21,
   "id": "7921d58c",
   "metadata": {},
   "outputs": [
    {
     "data": {
      "text/plain": [
       "0      465000\n",
       "1      755000\n",
       "2      700000\n",
       "3      465000\n",
       "4      465000\n",
       "        ...  \n",
       "107    375000\n",
       "108    300000\n",
       "109    425000\n",
       "110    420000\n",
       "111    425000\n",
       "Name: Price, Length: 112, dtype: int64"
      ]
     },
     "execution_count": 21,
     "metadata": {},
     "output_type": "execute_result"
    }
   ],
   "source": [
    "y"
   ]
  },
  {
   "cell_type": "markdown",
   "id": "7ede6bc2",
   "metadata": {},
   "source": [
    "## Converting the array into dataframe which is suitable for linear regression model"
   ]
  },
  {
   "cell_type": "code",
   "execution_count": 22,
   "id": "7e8aace6",
   "metadata": {},
   "outputs": [],
   "source": [
    "x = data['Year'].values.reshape(-1,1)\n",
    "y = data['Price'].values.reshape(-1,1)"
   ]
  },
  {
   "cell_type": "markdown",
   "id": "3c381e5e",
   "metadata": {},
   "source": [
    "## Dividing the data set into testing and training set "
   ]
  },
  {
   "cell_type": "code",
   "execution_count": 23,
   "id": "12d7f2ec",
   "metadata": {},
   "outputs": [],
   "source": [
    "from sklearn.model_selection import train_test_split"
   ]
  },
  {
   "cell_type": "code",
   "execution_count": 24,
   "id": "daa7bf39",
   "metadata": {},
   "outputs": [],
   "source": [
    "X_train,X_test,Y_train,Y_test=train_test_split(x,y,random_state=42,test_size=0.2)"
   ]
  },
  {
   "cell_type": "markdown",
   "id": "2eb2e059",
   "metadata": {},
   "source": [
    "## Creating the linear Regression model"
   ]
  },
  {
   "cell_type": "code",
   "execution_count": 25,
   "id": "a5f39a8b",
   "metadata": {},
   "outputs": [],
   "source": [
    "from sklearn.linear_model import LinearRegression"
   ]
  },
  {
   "cell_type": "code",
   "execution_count": 26,
   "id": "f95129e0",
   "metadata": {},
   "outputs": [],
   "source": [
    "lr=LinearRegression()\n",
    "model1=lr.fit(X_train,Y_train)\n",
    "predictions=model1.predict(X_test)"
   ]
  },
  {
   "cell_type": "markdown",
   "id": "6787354c",
   "metadata": {},
   "source": [
    "## Printing the Actual Price and Predicted price from the model as a Dataframe"
   ]
  },
  {
   "cell_type": "code",
   "execution_count": 27,
   "id": "ffb9e676",
   "metadata": {},
   "outputs": [],
   "source": [
    "X_test1 = list(np.concatenate(X_test).flat)\n",
    "Y_test1 = list(np.concatenate(Y_test).flat)\n",
    "y_pred = list(np.concatenate(predictions).flat)"
   ]
  },
  {
   "cell_type": "code",
   "execution_count": 28,
   "id": "54552650",
   "metadata": {},
   "outputs": [
    {
     "data": {
      "text/html": [
       "<div>\n",
       "<style scoped>\n",
       "    .dataframe tbody tr th:only-of-type {\n",
       "        vertical-align: middle;\n",
       "    }\n",
       "\n",
       "    .dataframe tbody tr th {\n",
       "        vertical-align: top;\n",
       "    }\n",
       "\n",
       "    .dataframe thead th {\n",
       "        text-align: right;\n",
       "    }\n",
       "</style>\n",
       "<table border=\"1\" class=\"dataframe\">\n",
       "  <thead>\n",
       "    <tr style=\"text-align: right;\">\n",
       "      <th></th>\n",
       "      <th>Years</th>\n",
       "      <th>Actual_price</th>\n",
       "      <th>Predicted price</th>\n",
       "    </tr>\n",
       "  </thead>\n",
       "  <tbody>\n",
       "    <tr>\n",
       "      <th>0</th>\n",
       "      <td>2019</td>\n",
       "      <td>525000</td>\n",
       "      <td>600775.912521</td>\n",
       "    </tr>\n",
       "    <tr>\n",
       "      <th>1</th>\n",
       "      <td>2017</td>\n",
       "      <td>495000</td>\n",
       "      <td>505558.776905</td>\n",
       "    </tr>\n",
       "    <tr>\n",
       "      <th>2</th>\n",
       "      <td>2018</td>\n",
       "      <td>465000</td>\n",
       "      <td>553167.344713</td>\n",
       "    </tr>\n",
       "    <tr>\n",
       "      <th>3</th>\n",
       "      <td>2018</td>\n",
       "      <td>450000</td>\n",
       "      <td>553167.344713</td>\n",
       "    </tr>\n",
       "    <tr>\n",
       "      <th>4</th>\n",
       "      <td>2018</td>\n",
       "      <td>550000</td>\n",
       "      <td>553167.344713</td>\n",
       "    </tr>\n",
       "    <tr>\n",
       "      <th>5</th>\n",
       "      <td>2015</td>\n",
       "      <td>300000</td>\n",
       "      <td>410341.641289</td>\n",
       "    </tr>\n",
       "    <tr>\n",
       "      <th>6</th>\n",
       "      <td>2017</td>\n",
       "      <td>550000</td>\n",
       "      <td>505558.776905</td>\n",
       "    </tr>\n",
       "    <tr>\n",
       "      <th>7</th>\n",
       "      <td>2018</td>\n",
       "      <td>500000</td>\n",
       "      <td>553167.344713</td>\n",
       "    </tr>\n",
       "    <tr>\n",
       "      <th>8</th>\n",
       "      <td>2019</td>\n",
       "      <td>500000</td>\n",
       "      <td>600775.912521</td>\n",
       "    </tr>\n",
       "    <tr>\n",
       "      <th>9</th>\n",
       "      <td>2019</td>\n",
       "      <td>550000</td>\n",
       "      <td>600775.912521</td>\n",
       "    </tr>\n",
       "    <tr>\n",
       "      <th>10</th>\n",
       "      <td>2013</td>\n",
       "      <td>320000</td>\n",
       "      <td>315124.505672</td>\n",
       "    </tr>\n",
       "    <tr>\n",
       "      <th>11</th>\n",
       "      <td>2017</td>\n",
       "      <td>550000</td>\n",
       "      <td>505558.776905</td>\n",
       "    </tr>\n",
       "    <tr>\n",
       "      <th>12</th>\n",
       "      <td>2015</td>\n",
       "      <td>465000</td>\n",
       "      <td>410341.641289</td>\n",
       "    </tr>\n",
       "    <tr>\n",
       "      <th>13</th>\n",
       "      <td>2020</td>\n",
       "      <td>640000</td>\n",
       "      <td>648384.480329</td>\n",
       "    </tr>\n",
       "    <tr>\n",
       "      <th>14</th>\n",
       "      <td>2018</td>\n",
       "      <td>465000</td>\n",
       "      <td>553167.344713</td>\n",
       "    </tr>\n",
       "    <tr>\n",
       "      <th>15</th>\n",
       "      <td>2019</td>\n",
       "      <td>500000</td>\n",
       "      <td>600775.912521</td>\n",
       "    </tr>\n",
       "    <tr>\n",
       "      <th>16</th>\n",
       "      <td>2013</td>\n",
       "      <td>345000</td>\n",
       "      <td>315124.505672</td>\n",
       "    </tr>\n",
       "    <tr>\n",
       "      <th>17</th>\n",
       "      <td>2015</td>\n",
       "      <td>390000</td>\n",
       "      <td>410341.641289</td>\n",
       "    </tr>\n",
       "    <tr>\n",
       "      <th>18</th>\n",
       "      <td>2017</td>\n",
       "      <td>375000</td>\n",
       "      <td>505558.776905</td>\n",
       "    </tr>\n",
       "    <tr>\n",
       "      <th>19</th>\n",
       "      <td>2017</td>\n",
       "      <td>520000</td>\n",
       "      <td>505558.776905</td>\n",
       "    </tr>\n",
       "    <tr>\n",
       "      <th>20</th>\n",
       "      <td>2017</td>\n",
       "      <td>550000</td>\n",
       "      <td>505558.776905</td>\n",
       "    </tr>\n",
       "    <tr>\n",
       "      <th>21</th>\n",
       "      <td>2017</td>\n",
       "      <td>500000</td>\n",
       "      <td>505558.776905</td>\n",
       "    </tr>\n",
       "    <tr>\n",
       "      <th>22</th>\n",
       "      <td>2017</td>\n",
       "      <td>550000</td>\n",
       "      <td>505558.776905</td>\n",
       "    </tr>\n",
       "  </tbody>\n",
       "</table>\n",
       "</div>"
      ],
      "text/plain": [
       "    Years  Actual_price  Predicted price\n",
       "0    2019        525000    600775.912521\n",
       "1    2017        495000    505558.776905\n",
       "2    2018        465000    553167.344713\n",
       "3    2018        450000    553167.344713\n",
       "4    2018        550000    553167.344713\n",
       "5    2015        300000    410341.641289\n",
       "6    2017        550000    505558.776905\n",
       "7    2018        500000    553167.344713\n",
       "8    2019        500000    600775.912521\n",
       "9    2019        550000    600775.912521\n",
       "10   2013        320000    315124.505672\n",
       "11   2017        550000    505558.776905\n",
       "12   2015        465000    410341.641289\n",
       "13   2020        640000    648384.480329\n",
       "14   2018        465000    553167.344713\n",
       "15   2019        500000    600775.912521\n",
       "16   2013        345000    315124.505672\n",
       "17   2015        390000    410341.641289\n",
       "18   2017        375000    505558.776905\n",
       "19   2017        520000    505558.776905\n",
       "20   2017        550000    505558.776905\n",
       "21   2017        500000    505558.776905\n",
       "22   2017        550000    505558.776905"
      ]
     },
     "execution_count": 28,
     "metadata": {},
     "output_type": "execute_result"
    }
   ],
   "source": [
    "df_new = pd.DataFrame({\"Years\": X_test1, \"Actual_price\": Y_test1, \"Predicted price\": y_pred})\n",
    "df_new"
   ]
  },
  {
   "cell_type": "markdown",
   "id": "d9afcbc8",
   "metadata": {},
   "source": [
    "\n",
    "## Finding the model checking values"
   ]
  },
  {
   "cell_type": "code",
   "execution_count": 29,
   "id": "b717d012",
   "metadata": {},
   "outputs": [],
   "source": [
    "from sklearn.metrics import mean_squared_error,r2_score"
   ]
  },
  {
   "cell_type": "code",
   "execution_count": 30,
   "id": "22a59800",
   "metadata": {},
   "outputs": [
    {
     "name": "stdout",
     "output_type": "stream",
     "text": [
      "The mean squared error values is: 4326906256.829671\n",
      "RMSE value is: 65779.22359552195\n",
      "the r squared value is: 0.36759313425902185\n"
     ]
    }
   ],
   "source": [
    "print('The mean squared error values is:',mean_squared_error(Y_test,predictions))\n",
    "print(\"RMSE value is:\",np.sqrt(mean_squared_error(Y_test,predictions)))\n",
    "print('the r squared value is:',r2_score(Y_test,predictions))"
   ]
  },
  {
   "cell_type": "markdown",
   "id": "2088c797",
   "metadata": {},
   "source": [
    "### The MSE and RMSE values are higher because the price of second-hand Hyundai grand i10 car is given in lakhs.Even though the difference is less in terms of percentage, squaring it will increase the value range.In each year there is different price values in actual price(test) column but only one predicted price in Predicted price column. That is the reason for high MSE values."
   ]
  },
  {
   "cell_type": "markdown",
   "id": "0efde8d5",
   "metadata": {},
   "source": [
    "## Predicting the value for the year 2022 using linear regression"
   ]
  },
  {
   "cell_type": "code",
   "execution_count": 31,
   "id": "8e17eb04",
   "metadata": {},
   "outputs": [
    {
     "name": "stdout",
     "output_type": "stream",
     "text": [
      "Price for the 2022 model grand i10 will be:743601.62\n"
     ]
    }
   ],
   "source": [
    "prd = lr.predict([[2022]]) \n",
    "print('Price for the 2022 model grand i10 will be:%.2f'% prd)"
   ]
  },
  {
   "cell_type": "markdown",
   "id": "9ec96948",
   "metadata": {},
   "source": [
    "## The price for the 2022 model second-hand grand i10 is obtained as 743601 from linear regression model"
   ]
  },
  {
   "cell_type": "markdown",
   "id": "2078a2d3",
   "metadata": {},
   "source": [
    "***"
   ]
  },
  {
   "cell_type": "markdown",
   "id": "3b4e89f8",
   "metadata": {},
   "source": [
    "## LASSO REGRESSION MODEL"
   ]
  },
  {
   "cell_type": "code",
   "execution_count": 32,
   "id": "afb7287c",
   "metadata": {},
   "outputs": [],
   "source": [
    "from sklearn.model_selection import train_test_split\n",
    "X_train,X_test,Y_train,Y_test=train_test_split(x,y,random_state=42,test_size=0.2)"
   ]
  },
  {
   "cell_type": "code",
   "execution_count": 33,
   "id": "1fbaae41",
   "metadata": {},
   "outputs": [],
   "source": [
    "from sklearn.linear_model import Lasso\n",
    "lasso=Lasso(alpha=1.0)\n",
    "model2=lasso.fit(X_train,Y_train)\n",
    "Y_pred=model2.predict(X_test)"
   ]
  },
  {
   "cell_type": "markdown",
   "id": "a61e5c8d",
   "metadata": {},
   "source": [
    "### The model is built by taking alpha parameter equal to 1"
   ]
  },
  {
   "cell_type": "markdown",
   "id": "1b163f02",
   "metadata": {},
   "source": [
    "## Printing the Actual Price and Predicted price from the model as a Dataframe"
   ]
  },
  {
   "cell_type": "code",
   "execution_count": 34,
   "id": "01b0669f",
   "metadata": {},
   "outputs": [
    {
     "data": {
      "text/plain": [
       "(23,)"
      ]
     },
     "execution_count": 34,
     "metadata": {},
     "output_type": "execute_result"
    }
   ],
   "source": [
    "Y_pred.shape"
   ]
  },
  {
   "cell_type": "code",
   "execution_count": 35,
   "id": "26b4fd27",
   "metadata": {},
   "outputs": [],
   "source": [
    "Y_pred=Y_pred.reshape(23,1)"
   ]
  },
  {
   "cell_type": "code",
   "execution_count": 36,
   "id": "59b96a47",
   "metadata": {},
   "outputs": [],
   "source": [
    "X_test2 = list(np.concatenate(X_test).flat)\n",
    "Y_test2 = list(np.concatenate(Y_test).flat)\n",
    "y_pred2 = list(np.concatenate(Y_pred).flat)"
   ]
  },
  {
   "cell_type": "code",
   "execution_count": 37,
   "id": "a3076d89",
   "metadata": {},
   "outputs": [
    {
     "data": {
      "text/html": [
       "<div>\n",
       "<style scoped>\n",
       "    .dataframe tbody tr th:only-of-type {\n",
       "        vertical-align: middle;\n",
       "    }\n",
       "\n",
       "    .dataframe tbody tr th {\n",
       "        vertical-align: top;\n",
       "    }\n",
       "\n",
       "    .dataframe thead th {\n",
       "        text-align: right;\n",
       "    }\n",
       "</style>\n",
       "<table border=\"1\" class=\"dataframe\">\n",
       "  <thead>\n",
       "    <tr style=\"text-align: right;\">\n",
       "      <th></th>\n",
       "      <th>Years</th>\n",
       "      <th>Actual_price</th>\n",
       "      <th>Predicted price</th>\n",
       "    </tr>\n",
       "  </thead>\n",
       "  <tbody>\n",
       "    <tr>\n",
       "      <th>0</th>\n",
       "      <td>2019</td>\n",
       "      <td>525000</td>\n",
       "      <td>600774.907473</td>\n",
       "    </tr>\n",
       "    <tr>\n",
       "      <th>1</th>\n",
       "      <td>2017</td>\n",
       "      <td>495000</td>\n",
       "      <td>505558.596274</td>\n",
       "    </tr>\n",
       "    <tr>\n",
       "      <th>2</th>\n",
       "      <td>2018</td>\n",
       "      <td>465000</td>\n",
       "      <td>553166.751873</td>\n",
       "    </tr>\n",
       "    <tr>\n",
       "      <th>3</th>\n",
       "      <td>2018</td>\n",
       "      <td>450000</td>\n",
       "      <td>553166.751873</td>\n",
       "    </tr>\n",
       "    <tr>\n",
       "      <th>4</th>\n",
       "      <td>2018</td>\n",
       "      <td>550000</td>\n",
       "      <td>553166.751873</td>\n",
       "    </tr>\n",
       "    <tr>\n",
       "      <th>5</th>\n",
       "      <td>2015</td>\n",
       "      <td>300000</td>\n",
       "      <td>410342.285075</td>\n",
       "    </tr>\n",
       "    <tr>\n",
       "      <th>6</th>\n",
       "      <td>2017</td>\n",
       "      <td>550000</td>\n",
       "      <td>505558.596274</td>\n",
       "    </tr>\n",
       "    <tr>\n",
       "      <th>7</th>\n",
       "      <td>2018</td>\n",
       "      <td>500000</td>\n",
       "      <td>553166.751873</td>\n",
       "    </tr>\n",
       "    <tr>\n",
       "      <th>8</th>\n",
       "      <td>2019</td>\n",
       "      <td>500000</td>\n",
       "      <td>600774.907473</td>\n",
       "    </tr>\n",
       "    <tr>\n",
       "      <th>9</th>\n",
       "      <td>2019</td>\n",
       "      <td>550000</td>\n",
       "      <td>600774.907473</td>\n",
       "    </tr>\n",
       "    <tr>\n",
       "      <th>10</th>\n",
       "      <td>2013</td>\n",
       "      <td>320000</td>\n",
       "      <td>315125.973876</td>\n",
       "    </tr>\n",
       "    <tr>\n",
       "      <th>11</th>\n",
       "      <td>2017</td>\n",
       "      <td>550000</td>\n",
       "      <td>505558.596274</td>\n",
       "    </tr>\n",
       "    <tr>\n",
       "      <th>12</th>\n",
       "      <td>2015</td>\n",
       "      <td>465000</td>\n",
       "      <td>410342.285075</td>\n",
       "    </tr>\n",
       "    <tr>\n",
       "      <th>13</th>\n",
       "      <td>2020</td>\n",
       "      <td>640000</td>\n",
       "      <td>648383.063072</td>\n",
       "    </tr>\n",
       "    <tr>\n",
       "      <th>14</th>\n",
       "      <td>2018</td>\n",
       "      <td>465000</td>\n",
       "      <td>553166.751873</td>\n",
       "    </tr>\n",
       "    <tr>\n",
       "      <th>15</th>\n",
       "      <td>2019</td>\n",
       "      <td>500000</td>\n",
       "      <td>600774.907473</td>\n",
       "    </tr>\n",
       "    <tr>\n",
       "      <th>16</th>\n",
       "      <td>2013</td>\n",
       "      <td>345000</td>\n",
       "      <td>315125.973876</td>\n",
       "    </tr>\n",
       "    <tr>\n",
       "      <th>17</th>\n",
       "      <td>2015</td>\n",
       "      <td>390000</td>\n",
       "      <td>410342.285075</td>\n",
       "    </tr>\n",
       "    <tr>\n",
       "      <th>18</th>\n",
       "      <td>2017</td>\n",
       "      <td>375000</td>\n",
       "      <td>505558.596274</td>\n",
       "    </tr>\n",
       "    <tr>\n",
       "      <th>19</th>\n",
       "      <td>2017</td>\n",
       "      <td>520000</td>\n",
       "      <td>505558.596274</td>\n",
       "    </tr>\n",
       "    <tr>\n",
       "      <th>20</th>\n",
       "      <td>2017</td>\n",
       "      <td>550000</td>\n",
       "      <td>505558.596274</td>\n",
       "    </tr>\n",
       "    <tr>\n",
       "      <th>21</th>\n",
       "      <td>2017</td>\n",
       "      <td>500000</td>\n",
       "      <td>505558.596274</td>\n",
       "    </tr>\n",
       "    <tr>\n",
       "      <th>22</th>\n",
       "      <td>2017</td>\n",
       "      <td>550000</td>\n",
       "      <td>505558.596274</td>\n",
       "    </tr>\n",
       "  </tbody>\n",
       "</table>\n",
       "</div>"
      ],
      "text/plain": [
       "    Years  Actual_price  Predicted price\n",
       "0    2019        525000    600774.907473\n",
       "1    2017        495000    505558.596274\n",
       "2    2018        465000    553166.751873\n",
       "3    2018        450000    553166.751873\n",
       "4    2018        550000    553166.751873\n",
       "5    2015        300000    410342.285075\n",
       "6    2017        550000    505558.596274\n",
       "7    2018        500000    553166.751873\n",
       "8    2019        500000    600774.907473\n",
       "9    2019        550000    600774.907473\n",
       "10   2013        320000    315125.973876\n",
       "11   2017        550000    505558.596274\n",
       "12   2015        465000    410342.285075\n",
       "13   2020        640000    648383.063072\n",
       "14   2018        465000    553166.751873\n",
       "15   2019        500000    600774.907473\n",
       "16   2013        345000    315125.973876\n",
       "17   2015        390000    410342.285075\n",
       "18   2017        375000    505558.596274\n",
       "19   2017        520000    505558.596274\n",
       "20   2017        550000    505558.596274\n",
       "21   2017        500000    505558.596274\n",
       "22   2017        550000    505558.596274"
      ]
     },
     "execution_count": 37,
     "metadata": {},
     "output_type": "execute_result"
    }
   ],
   "source": [
    "df_new = pd.DataFrame({\"Years\": X_test2, \"Actual_price\": Y_test2, \"Predicted price\": y_pred2})\n",
    "df_new"
   ]
  },
  {
   "cell_type": "markdown",
   "id": "249b1592",
   "metadata": {},
   "source": [
    "## Finding the slope and intercepts of the lasso regression model"
   ]
  },
  {
   "cell_type": "code",
   "execution_count": 38,
   "id": "9ff1c64c",
   "metadata": {},
   "outputs": [
    {
     "name": "stdout",
     "output_type": "stream",
     "text": [
      "slope:47608.16\n"
     ]
    }
   ],
   "source": [
    "print('slope:%.2f' % lasso.coef_[0])"
   ]
  },
  {
   "cell_type": "code",
   "execution_count": 39,
   "id": "b7b38cf6",
   "metadata": {},
   "outputs": [
    {
     "name": "stdout",
     "output_type": "stream",
     "text": [
      "Intercepts:-95520091.25\n"
     ]
    }
   ],
   "source": [
    "print('Intercepts:%.2f'%lasso.intercept_)"
   ]
  },
  {
   "cell_type": "markdown",
   "id": "e807e9f0",
   "metadata": {},
   "source": [
    "### The slope is find out as 47608.16 and intercept as -95520091.25.So the eqaution of the line formed from lasso regression model will be Y=47608.16X-95520091.25"
   ]
  },
  {
   "cell_type": "markdown",
   "id": "6c540e3e",
   "metadata": {},
   "source": [
    "## Finding the lasso Regression coefficient of the model"
   ]
  },
  {
   "cell_type": "code",
   "execution_count": 40,
   "id": "ddb4dfca",
   "metadata": {},
   "outputs": [
    {
     "name": "stdout",
     "output_type": "stream",
     "text": [
      "   Year  Coefficient Estimate\n",
      "0     0            47608.1556\n"
     ]
    }
   ],
   "source": [
    "X_train=Y=pd.DataFrame(X_train)\n",
    "lasso_coeff = pd.DataFrame()\n",
    "lasso_coeff['Year'] = X_train.columns\n",
    "lasso_coeff['Coefficient Estimate'] = pd.Series(lasso.coef_)\n",
    "print(lasso_coeff)"
   ]
  },
  {
   "cell_type": "markdown",
   "id": "44ae690e",
   "metadata": {},
   "source": [
    "## The lasso regression coefficient is estimated as 47608.15 for the model"
   ]
  },
  {
   "cell_type": "markdown",
   "id": "a98e4045",
   "metadata": {},
   "source": [
    "## Finding the model checking values"
   ]
  },
  {
   "cell_type": "code",
   "execution_count": 41,
   "id": "48b454d8",
   "metadata": {},
   "outputs": [
    {
     "name": "stdout",
     "output_type": "stream",
     "text": [
      "mean_squared_error: 4326859771.015669\n",
      "RMSE value is: 65778.8702473345\n",
      "the r squared value is 0.3675999284778446\n"
     ]
    }
   ],
   "source": [
    "from sklearn.metrics import mean_squared_error\n",
    "print('mean_squared_error:',mean_squared_error(Y_test,Y_pred))\n",
    "print(\"RMSE value is:\",np.sqrt(mean_squared_error(Y_test,Y_pred)))\n",
    "print('the r squared value is',r2_score(Y_test,Y_pred))"
   ]
  },
  {
   "cell_type": "markdown",
   "id": "6c197a36",
   "metadata": {},
   "source": [
    "### The MSE and RMSE values are higher because the price of second-hand Hyundai grand i10 car is given in lakhs.Even though the difference is less in terms of percentage, squaring it will increase the value range.In each year there is different price values in actual price(test) column but only one predicted price in Predicted price column. That is the reason for high MSE values in the case of lasso regession model also"
   ]
  },
  {
   "cell_type": "markdown",
   "id": "5138c5f6",
   "metadata": {},
   "source": [
    "## Predicting the value for the year 2022 using Lasso regression"
   ]
  },
  {
   "cell_type": "code",
   "execution_count": 42,
   "id": "54fcd087",
   "metadata": {},
   "outputs": [
    {
     "name": "stdout",
     "output_type": "stream",
     "text": [
      "Price for the 2022 model grand i10 will be:743599.37\n"
     ]
    }
   ],
   "source": [
    "prd = lasso.predict([[2022]]) \n",
    "print('Price for the 2022 model grand i10 will be:%.2f'% prd)"
   ]
  },
  {
   "cell_type": "markdown",
   "id": "4dd8e4cc",
   "metadata": {},
   "source": [
    "## The price for the 2022 model second-hand grand i10 is obtained as 743599 from lasso regession model"
   ]
  },
  {
   "cell_type": "markdown",
   "id": "259d7448",
   "metadata": {},
   "source": [
    "### Using the two predictions models using the  linear and lasso regression, the values for the year 2022 is obtained as 743601 and 743599 respectively."
   ]
  },
  {
   "cell_type": "markdown",
   "id": "6b0afc06",
   "metadata": {},
   "source": [
    "###  The MSE values is obtained as 4326906256 for Linear and 4326859771 for lasso models.The RMSE values are 65779 and  65778 respectively .The R squared values are 0.36759 in both cases. The Lasso model is giving the slightly lesser error values than Linear Regession models.So lasso regression model is performing slightly better than linear regression model in this case.The data set taken is a smaller one. Working in a bigger data set will give better idea about both models"
   ]
  },
  {
   "cell_type": "markdown",
   "id": "20c5c1ef",
   "metadata": {},
   "source": [
    "***\n",
    "***"
   ]
  }
 ],
 "metadata": {
  "kernelspec": {
   "display_name": "Python 3 (ipykernel)",
   "language": "python",
   "name": "python3"
  },
  "language_info": {
   "codemirror_mode": {
    "name": "ipython",
    "version": 3
   },
   "file_extension": ".py",
   "mimetype": "text/x-python",
   "name": "python",
   "nbconvert_exporter": "python",
   "pygments_lexer": "ipython3",
   "version": "3.9.12"
  }
 },
 "nbformat": 4,
 "nbformat_minor": 5
}
